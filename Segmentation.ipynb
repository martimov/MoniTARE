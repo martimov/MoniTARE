{
  "nbformat": 4,
  "nbformat_minor": 0,
  "metadata": {
    "colab": {
      "provenance": [],
      "authorship_tag": "ABX9TyOTzhF2SjuWEvO3mzFVyK9d",
      "include_colab_link": true
    },
    "kernelspec": {
      "name": "python3",
      "display_name": "Python 3"
    },
    "language_info": {
      "name": "python"
    }
  },
  "cells": [
    {
      "cell_type": "markdown",
      "metadata": {
        "id": "view-in-github",
        "colab_type": "text"
      },
      "source": [
        "<a href=\"https://colab.research.google.com/github/martimov/MoniTARE/blob/main/Segmentation.ipynb\" target=\"_parent\"><img src=\"https://colab.research.google.com/assets/colab-badge.svg\" alt=\"Open In Colab\"/></a>"
      ]
    },
    {
      "cell_type": "code",
      "execution_count": null,
      "metadata": {
        "id": "1bw2sF11VVyh"
      },
      "outputs": [],
      "source": [
        "# Import libraries\n",
        "import cv2 as cv\n",
        "import matplotlib.pyplot as plt\n",
        "import numpy as np\n",
        "%matplotlib inline\n",
        "\n",
        "import matplotlib\n",
        "matplotlib.rcParams['figure.figsize'] = (20.0, 10.0)\n",
        "matplotlib.rcParams['image.cmap'] = 'gray'"
      ]
    },
    {
      "cell_type": "code",
      "source": [
        "# Load an image and display\n",
        "imgPath = 'video_BYEDP210102_2022-03-22_095346_wideshot.mp4_snapshot_00.10.663.jpg'\n",
        "img = cv2.imread(imgPath, cv2.IMREAD_COLOR)\n",
        "\n",
        "# Convert to grayscale\n",
        "imgGray = cv2.cvtColor(img, cv2.COLOR_BGR2GRAY)\n",
        "\n",
        "# Display image\n",
        "plt.imshow(img[:, :, ::-1]);\n",
        "print(img.shape)"
      ],
      "metadata": {
        "id": "XbEjeg1bWB44"
      },
      "execution_count": null,
      "outputs": []
    },
    {
      "cell_type": "code",
      "source": [],
      "metadata": {
        "id": "XKklmJuhWS1T"
      },
      "execution_count": null,
      "outputs": []
    }
  ]
}